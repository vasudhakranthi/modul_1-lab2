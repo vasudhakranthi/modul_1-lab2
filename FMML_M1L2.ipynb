{
  "cells": [
    {
      "cell_type": "markdown",
      "metadata": {
        "id": "view-in-github",
        "colab_type": "text"
      },
      "source": [
        "<a href=\"https://colab.research.google.com/github/vasudhakranthi/modul_1-lab2/blob/main/FMML_M1L2.ipynb\" target=\"_parent\"><img src=\"https://colab.research.google.com/assets/colab-badge.svg\" alt=\"Open In Colab\"/></a>"
      ]
    },
    {
      "cell_type": "markdown",
      "metadata": {
        "id": "3Eu9VZbF01eq"
      },
      "source": [
        "# Machine Learning terms and metrics\n",
        "\n",
        "FMML Module 1, Lab 2\n",
        "\n",
        "In this lab, we will show a part of the ML pipeline by using the California Housing dataset. There are 20640 samples, each with 8 attributes like income of the block, age of the houses per district etc. The task is to predict the cost of the houses per district. We will use the scikit-learn library to load the data and perform some basic data preprocessing and model training. We will also show how to evaluate the model using some common metrics, split the data into training and testing sets, and use cross-validation to get a better estimate of the model's performance."
      ]
    },
    {
      "cell_type": "code",
      "execution_count": 1,
      "metadata": {
        "id": "8qBvyEem0vLi"
      },
      "outputs": [],
      "source": [
        "import numpy as np\n",
        "from sklearn import datasets\n",
        "import matplotlib.pyplot as plt\n",
        "\n",
        "rng = np.random.default_rng(seed=42)"
      ]
    },
    {
      "cell_type": "code",
      "execution_count": 2,
      "metadata": {
        "colab": {
          "base_uri": "https://localhost:8080/"
        },
        "id": "8LpqjN991GGJ",
        "outputId": "6d6d111e-ac0f-4d02-d09a-42ec2b4319ac"
      },
      "outputs": [
        {
          "output_type": "stream",
          "name": "stdout",
          "text": [
            ".. _california_housing_dataset:\n",
            "\n",
            "California Housing dataset\n",
            "--------------------------\n",
            "\n",
            "**Data Set Characteristics:**\n",
            "\n",
            ":Number of Instances: 20640\n",
            "\n",
            ":Number of Attributes: 8 numeric, predictive attributes and the target\n",
            "\n",
            ":Attribute Information:\n",
            "    - MedInc        median income in block group\n",
            "    - HouseAge      median house age in block group\n",
            "    - AveRooms      average number of rooms per household\n",
            "    - AveBedrms     average number of bedrooms per household\n",
            "    - Population    block group population\n",
            "    - AveOccup      average number of household members\n",
            "    - Latitude      block group latitude\n",
            "    - Longitude     block group longitude\n",
            "\n",
            ":Missing Attribute Values: None\n",
            "\n",
            "This dataset was obtained from the StatLib repository.\n",
            "https://www.dcc.fc.up.pt/~ltorgo/Regression/cal_housing.html\n",
            "\n",
            "The target variable is the median house value for California districts,\n",
            "expressed in hundreds of thousands of dollars ($100,000).\n",
            "\n",
            "This dataset was derived from the 1990 U.S. census, using one row per census\n",
            "block group. A block group is the smallest geographical unit for which the U.S.\n",
            "Census Bureau publishes sample data (a block group typically has a population\n",
            "of 600 to 3,000 people).\n",
            "\n",
            "A household is a group of people residing within a home. Since the average\n",
            "number of rooms and bedrooms in this dataset are provided per household, these\n",
            "columns may take surprisingly large values for block groups with few households\n",
            "and many empty houses, such as vacation resorts.\n",
            "\n",
            "It can be downloaded/loaded using the\n",
            ":func:`sklearn.datasets.fetch_california_housing` function.\n",
            "\n",
            ".. rubric:: References\n",
            "\n",
            "- Pace, R. Kelley and Ronald Barry, Sparse Spatial Autoregressions,\n",
            "  Statistics and Probability Letters, 33 (1997) 291-297\n",
            "\n"
          ]
        }
      ],
      "source": [
        "dataset = datasets.fetch_california_housing()\n",
        "# Dataset description\n",
        "print(dataset.DESCR)"
      ]
    },
    {
      "cell_type": "markdown",
      "metadata": {
        "id": "PCe1VNftevgE"
      },
      "source": [
        "Given below are the list of target values. These correspond to the house value derived considering all the 8 input features and are continuous values. We should use regression models to predict these values but we will start with a simple classification model for the sake of simplicity. We need to just round off the values to the nearest integer and use a classification model to predict the house value."
      ]
    },
    {
      "cell_type": "code",
      "execution_count": 3,
      "metadata": {
        "colab": {
          "base_uri": "https://localhost:8080/"
        },
        "id": "F8K0ggBOevgE",
        "outputId": "855b723d-6d37-4928-cecc-03bd64f984a6"
      },
      "outputs": [
        {
          "output_type": "stream",
          "name": "stdout",
          "text": [
            "Orignal target values: [4.526 3.585 3.521 ... 0.923 0.847 0.894]\n",
            "Target values after conversion: [4 3 3 ... 0 0 0]\n",
            "Input variables shape: (20640, 8)\n",
            "Output variables shape: (20640,)\n"
          ]
        }
      ],
      "source": [
        "print(\"Orignal target values:\", dataset.target)\n",
        "\n",
        "dataset.target = dataset.target.astype(int)\n",
        "\n",
        "print(\"Target values after conversion:\", dataset.target)\n",
        "print(\"Input variables shape:\", dataset.data.shape)\n",
        "print(\"Output variables shape:\", dataset.target.shape)"
      ]
    },
    {
      "cell_type": "markdown",
      "metadata": {
        "id": "iNx4174W5xRg"
      },
      "source": [
        "The simplest model to use for classification is the K-Nearest Neighbors model. We will use this model to predict the house value with a K value of 1. We will also use the accuracy metric to evaluate the model."
      ]
    },
    {
      "cell_type": "code",
      "execution_count": 4,
      "metadata": {
        "id": "07zpydQj1hIQ"
      },
      "outputs": [],
      "source": [
        "def NN1(traindata, trainlabel, query):\n",
        "    \"\"\"\n",
        "    This function takes in the training data, training labels and a query point\n",
        "    and returns the predicted label for the query point using the nearest neighbour algorithm\n",
        "\n",
        "    traindata: numpy array of shape (n,d) where n is the number of samples and d is the number of features\n",
        "    trainlabel: numpy array of shape (n,) where n is the number of samples\n",
        "    query: numpy array of shape (d,) where d is the number of features\n",
        "\n",
        "    returns: the predicted label for the query point which is the label of the training data which is closest to the query point\n",
        "    \"\"\"\n",
        "    diff = (\n",
        "        traindata - query\n",
        "    )  # find the difference between features. Numpy automatically takes care of the size here\n",
        "    sq = diff * diff  # square the differences\n",
        "    dist = sq.sum(1)  # add up the squares\n",
        "    label = trainlabel[np.argmin(dist)]\n",
        "    return label\n",
        "\n",
        "\n",
        "def NN(traindata, trainlabel, testdata):\n",
        "    \"\"\"\n",
        "    This function takes in the training data, training labels and test data\n",
        "    and returns the predicted labels for the test data using the nearest neighbour algorithm\n",
        "\n",
        "    traindata: numpy array of shape (n,d) where n is the number of samples and d is the number of features\n",
        "    trainlabel: numpy array of shape (n,) where n is the number of samples\n",
        "    testdata: numpy array of shape (m,d) where m is the number of test samples and d is the number of features\n",
        "\n",
        "    returns: the predicted labels for the test data which is the label of the training data which is closest to each test point\n",
        "    \"\"\"\n",
        "    predlabel = np.array([NN1(traindata, trainlabel, i) for i in testdata])\n",
        "    return predlabel"
      ]
    },
    {
      "cell_type": "markdown",
      "metadata": {
        "id": "03JktkfIGaje"
      },
      "source": [
        "We will also define a 'random classifier', which randomly allots labels to each sample"
      ]
    },
    {
      "cell_type": "code",
      "execution_count": 5,
      "metadata": {
        "id": "fogWAtjyGhAH"
      },
      "outputs": [],
      "source": [
        "def RandomClassifier(traindata, trainlabel, testdata):\n",
        "    \"\"\"\n",
        "    This function takes in the training data, training labels and test data\n",
        "    and returns the predicted labels for the test data using the random classifier algorithm\n",
        "\n",
        "    In reality, we don't need these arguments but we are passing them to keep the function signature consistent with other classifiers\n",
        "\n",
        "    traindata: numpy array of shape (n,d) where n is the number of samples and d is the number of features\n",
        "    trainlabel: numpy array of shape (n,) where n is the number of samples\n",
        "    testdata: numpy array of shape (m,d) where m is the number of test samples and d is the number of features\n",
        "\n",
        "    returns: the predicted labels for the test data which is a random label from the training data\n",
        "    \"\"\"\n",
        "\n",
        "    classes = np.unique(trainlabel)\n",
        "    rints = rng.integers(low=0, high=len(classes), size=len(testdata))\n",
        "    predlabel = classes[rints]\n",
        "    return predlabel"
      ]
    },
    {
      "cell_type": "markdown",
      "metadata": {
        "id": "1Hjf1KHs7fU5"
      },
      "source": [
        "We need a metric to evaluate the performance of the model. Let us define a metric 'Accuracy' to see how good our learning algorithm is. Accuracy is the ratio of the number of correctly classified samples to the total number of samples. The higher the accuracy, the better the algorithm. We will use the accuracy metric to evaluate and compate the performance of the K-Nearest Neighbors model and the random classifier."
      ]
    },
    {
      "cell_type": "code",
      "execution_count": 6,
      "metadata": {
        "id": "ouuCqWU07bz-"
      },
      "outputs": [],
      "source": [
        "def Accuracy(gtlabel, predlabel):\n",
        "    \"\"\"\n",
        "    This function takes in the ground-truth labels and predicted labels\n",
        "    and returns the accuracy of the classifier\n",
        "\n",
        "    gtlabel: numpy array of shape (n,) where n is the number of samples\n",
        "    predlabel: numpy array of shape (n,) where n is the number of samples\n",
        "\n",
        "    returns: the accuracy of the classifier which is the number of correct predictions divided by the total number of predictions\n",
        "    \"\"\"\n",
        "    assert len(gtlabel) == len(\n",
        "        predlabel\n",
        "    ), \"Length of the ground-truth labels and predicted labels should be the same\"\n",
        "    correct = (\n",
        "        gtlabel == predlabel\n",
        "    ).sum()  # count the number of times the groundtruth label is equal to the predicted label.\n",
        "    return correct / len(gtlabel)"
      ]
    },
    {
      "cell_type": "markdown",
      "metadata": {
        "id": "4vJFwBFa9Klw"
      },
      "source": [
        "Let us make a function to split the dataset with the desired probability. We will use this function to split the dataset into training and testing sets. We will use the training set to train the model and the testing set to evaluate the model."
      ]
    },
    {
      "cell_type": "code",
      "execution_count": 7,
      "metadata": {
        "id": "Ko0VzpSM2Tdi"
      },
      "outputs": [],
      "source": [
        "def split(data, label, percent):\n",
        "    # generate a random number for each sample\n",
        "    rnd = rng.random(len(label))\n",
        "    split1 = rnd < percent\n",
        "    split2 = rnd >= percent\n",
        "\n",
        "    split1data = data[split1, :]\n",
        "    split1label = label[split1]\n",
        "    split2data = data[split2, :]\n",
        "    split2label = label[split2]\n",
        "    return split1data, split1label, split2data, split2label"
      ]
    },
    {
      "cell_type": "markdown",
      "metadata": {
        "id": "AcK3LEAJ_LGC"
      },
      "source": [
        "We will reserve 20% of our dataset as the test set. We will not change this portion throughout our experiments"
      ]
    },
    {
      "cell_type": "code",
      "execution_count": 8,
      "metadata": {
        "colab": {
          "base_uri": "https://localhost:8080/"
        },
        "id": "bBZkHBLJ1iU-",
        "outputId": "f80a58c2-09ee-4def-aceb-354daf91bb4d"
      },
      "outputs": [
        {
          "output_type": "stream",
          "name": "stdout",
          "text": [
            "Number of test samples: 4144\n",
            "Number of train samples: 16496\n",
            "Percent of test data: 20.07751937984496 %\n"
          ]
        }
      ],
      "source": [
        "testdata, testlabel, alltraindata, alltrainlabel = split(\n",
        "    dataset.data, dataset.target, 20 / 100\n",
        ")\n",
        "print(\"Number of test samples:\", len(testlabel))\n",
        "print(\"Number of train samples:\", len(alltrainlabel))\n",
        "print(\"Percent of test data:\", len(testlabel) * 100 / len(dataset.target), \"%\")"
      ]
    },
    {
      "cell_type": "markdown",
      "metadata": {
        "id": "a6Ss0Z6IAGNV"
      },
      "source": [
        "## Experiments with splits\n",
        "\n",
        "Let us reserve some of our train data as a validation set"
      ]
    },
    {
      "cell_type": "code",
      "execution_count": 9,
      "metadata": {
        "id": "WFew2iry_7W7"
      },
      "outputs": [],
      "source": [
        "traindata, trainlabel, valdata, vallabel = split(\n",
        "    alltraindata, alltrainlabel, 75 / 100)"
      ]
    },
    {
      "cell_type": "markdown",
      "metadata": {
        "id": "60hiu4clFN1i"
      },
      "source": [
        "What is the accuracy of our classifiers on the train dataset?"
      ]
    },
    {
      "cell_type": "code",
      "execution_count": 10,
      "metadata": {
        "colab": {
          "base_uri": "https://localhost:8080/"
        },
        "id": "DBlZDTHUFTZx",
        "outputId": "2676d2ee-82e6-4f74-e936-8b8703aba41a"
      },
      "outputs": [
        {
          "output_type": "stream",
          "name": "stdout",
          "text": [
            "Training accuracy using nearest neighbour algorithm: 100.0 %\n",
            "Training accuracy using random classifier:  16.4375808538163 %\n"
          ]
        }
      ],
      "source": [
        "trainpred = NN(traindata, trainlabel, traindata)\n",
        "trainAccuracy = Accuracy(trainlabel, trainpred)\n",
        "print(\"Training accuracy using nearest neighbour algorithm:\", trainAccuracy*100, \"%\")\n",
        "\n",
        "trainpred = RandomClassifier(traindata, trainlabel, traindata)\n",
        "trainAccuracy = Accuracy(trainlabel, trainpred)\n",
        "print(\"Training accuracy using random classifier: \", trainAccuracy*100, \"%\")"
      ]
    },
    {
      "cell_type": "markdown",
      "metadata": {
        "id": "7h08-9gJDtSy"
      },
      "source": [
        "For nearest neighbour, the train accuracy is always 1. The accuracy of the random classifier is close to 1/(number of classes) which is 0.1666 in our case. This is because the random classifier randomly assigns a label to each sample and the probability of assigning the correct label is 1/(number of classes). Let us predict the labels for our validation set and get the accuracy. This accuracy is a good estimate of the accuracy of our model on unseen data."
      ]
    },
    {
      "cell_type": "code",
      "execution_count": 11,
      "metadata": {
        "colab": {
          "base_uri": "https://localhost:8080/"
        },
        "id": "4h7bXoW_2H3v",
        "outputId": "6a7f1e73-b128-4a27-c89b-7b7e549f967b"
      },
      "outputs": [
        {
          "output_type": "stream",
          "name": "stdout",
          "text": [
            "Validation accuracy using nearest neighbour algorithm: 34.10852713178294 %\n",
            "Validation accuracy using random classifier: 16.884689922480618 %\n"
          ]
        }
      ],
      "source": [
        "valpred = NN(traindata, trainlabel, valdata)\n",
        "valAccuracy = Accuracy(vallabel, valpred)\n",
        "print(\"Validation accuracy using nearest neighbour algorithm:\", valAccuracy*100, \"%\")\n",
        "\n",
        "\n",
        "valpred = RandomClassifier(traindata, trainlabel, valdata)\n",
        "valAccuracy = Accuracy(vallabel, valpred)\n",
        "print(\"Validation accuracy using random classifier:\", valAccuracy*100, \"%\")"
      ]
    },
    {
      "cell_type": "markdown",
      "metadata": {
        "id": "py9bLguFEjfg"
      },
      "source": [
        "Validation accuracy of nearest neighbour is considerably less than its train accuracy while the validation accuracy of random classifier is the same. However, the validation accuracy of nearest neighbour is twice that of the random classifier. Now let us try another random split and check the validation accuracy. We will see that the validation accuracy changes with the split. This is because the validation set is small and the accuracy is highly dependent on the samples in the validation set. We can get a better estimate of the accuracy by using cross-validation."
      ]
    },
    {
      "cell_type": "code",
      "execution_count": 12,
      "metadata": {
        "colab": {
          "base_uri": "https://localhost:8080/"
        },
        "id": "ujm3cyYzEntE",
        "outputId": "3fd2e5d0-0ddb-48bb-8b27-983c5ebfde23"
      },
      "outputs": [
        {
          "output_type": "stream",
          "name": "stdout",
          "text": [
            "Validation accuracy using nearest neighbour algorithm: 34.048257372654156 %\n"
          ]
        }
      ],
      "source": [
        "traindata, trainlabel, valdata, vallabel = split(\n",
        "    alltraindata, alltrainlabel, 75 / 100)\n",
        "valpred = NN(traindata, trainlabel, valdata)\n",
        "valAccuracy = Accuracy(vallabel, valpred)\n",
        "print(\"Validation accuracy using nearest neighbour algorithm:\", valAccuracy*100, \"%\")"
      ]
    },
    {
      "cell_type": "markdown",
      "metadata": {
        "id": "oSOx7U83EKie"
      },
      "source": [
        "You can run the above cell multiple times to try with different random splits.\n",
        "We notice that the accuracy is different for each run, but close together.\n",
        "\n",
        "Now let us compare it with the accuracy we get on the test dataset."
      ]
    },
    {
      "cell_type": "code",
      "execution_count": 13,
      "metadata": {
        "colab": {
          "base_uri": "https://localhost:8080/"
        },
        "id": "PNEZ5ToYBEDW",
        "outputId": "f43ba90f-1bea-44cb-dca9-fc255ca3721d"
      },
      "outputs": [
        {
          "output_type": "stream",
          "name": "stdout",
          "text": [
            "Test accuracy: 34.91795366795367 %\n"
          ]
        }
      ],
      "source": [
        "testpred = NN(alltraindata, alltrainlabel, testdata)\n",
        "testAccuracy = Accuracy(testlabel, testpred)\n",
        "\n",
        "print(\"Test accuracy:\", testAccuracy*100, \"%\")"
      ]
    },
    {
      "cell_type": "markdown",
      "metadata": {
        "id": "w3dGD531K3gH"
      },
      "source": [
        "### Try it out for yourself and answer:\n",
        "1. How is the accuracy of the validation set affected if we increase the percentage of validation set? What happens when we reduce it?\n",
        "The size of the validation set in machine learning plays a crucial role in assessing model performance, and adjusting the percentage of data allocated to the validation set can have significant effects on model evaluation. Here’s how increasing or decreasing the validation set size can affect accuracy:\n",
        "\n",
        "### Increasing the Percentage of the Validation Set\n",
        "\n",
        "1. **More Reliable Performance Estimates**:\n",
        "   - **Pros**: A larger validation set provides a better representation of the overall dataset. This can lead to more reliable estimates of the model's performance on unseen data, as it reduces variability in performance metrics (e.g., accuracy, precision, recall).\n",
        "   - **Cons**: The training set becomes smaller, which may reduce the model’s ability to learn from the data.\n",
        "\n",
        "2. **Overfitting Mitigation**:\n",
        "   - With a larger validation set, you can more effectively monitor for overfitting, as the model’s performance can be assessed on a more substantial portion of the data.\n",
        "   - It can provide more robust insights into whether the model is generalizing well or if it has started to memorize the training data.\n",
        "\n",
        "3. **Decreased Training Data**:\n",
        "   - If the validation set is too large, the model may not have enough training data to learn complex patterns, potentially leading to lower accuracy in the model's training performance.\n",
        "   - This can hinder the model's ability to generalize effectively, especially in datasets where training data is already limited.\n",
        "\n",
        "### Decreasing the Percentage of the Validation Set\n",
        "\n",
        "1. **More Training Data Available**:\n",
        "   - **Pros**: A smaller validation set allows for more data to be used for training the model. This can enhance the model's ability to learn from the training set, leading to better performance on the training data.\n",
        "   - **Cons**: The performance estimates on the validation set become less reliable. The model may perform well on the training data but poorly on unseen data, leading to a misleading assessment of the model's capabilities.\n",
        "\n",
        "2. **Increased Variability in Performance Estimates**:\n",
        "   - A smaller validation set may not adequately represent the underlying data distribution, leading to higher variability in performance metrics. This could make it challenging to assess the model’s generalization ability.\n",
        "   - The model might appear to have high accuracy in validation but may not hold up in real-world scenarios.\n",
        "\n",
        "3. **Risk of Overfitting**:\n",
        "   - With a limited validation set, the risk of overfitting becomes more pronounced, as it may not effectively highlight the model's weaknesses. The model might perform well on the validation set simply by chance rather than due to its generalization capabilities.\n",
        "\n",
        "### Summary of Effects\n",
        "\n",
        "- **Increasing the Validation Set Size**:\n",
        "  - **Advantages**: More reliable performance estimates, better monitoring of overfitting, and improved understanding of model generalization.\n",
        "  - **Disadvantages**: Less training data, which can lead to underfitting or poor learning if the training set is too small.\n",
        "\n",
        "- **Decreasing the Validation Set Size**:\n",
        "  - **Advantages**: More data available for training, potentially improving learning and model performance on the training set.\n",
        "  - **Disadvantages**: Less reliable validation performance estimates, increased variability in metrics, and a higher risk of overfitting.\n",
        "\n",
        "### Best Practices\n",
        "\n",
        "1. **Balanced Approach**: Aim for a balanced approach when splitting data into training, validation, and test sets. Common splits include 70% training, 15% validation, and 15% test or 80% training and 20% validation/test combined.\n",
        "   \n",
        "2. **Cross-Validation**: Consider using techniques like k-fold cross-validation, which allows the model to be trained and validated multiple times on different subsets of the data, providing a more reliable estimate of performance without sacrificing too much training data.\n",
        "\n",
        "3. **Dataset Size Consideration**: The optimal validation size can depend on the total dataset size. For very large datasets, smaller percentages may still yield sufficient validation data, while for smaller datasets, you might need a larger absolute number for reliable estimates.\n",
        "\n",
        "By carefully considering the percentage of the validation set, you can better assess the trade-offs between model training and evaluation, leading to more robust and reliable machine learning models.\n",
        "2. How does the size of the train and validation set affect how well we can predict the accuracy on the test set using the validation set?\n",
        "The size of the training and validation sets can significantly impact how well the validation set can predict the accuracy on the test set. Here's a breakdown of how each aspect influences the predictive accuracy:\n",
        "\n",
        "### 1. **Training Set Size**\n",
        "\n",
        "- **Larger Training Set**:\n",
        "  - **Better Learning**: A larger training set generally allows the model to learn more robust patterns and features from the data, improving its generalization to unseen data.\n",
        "  - **Reduced Overfitting**: With more training data, the model is less likely to memorize specific examples, which helps in reducing overfitting and enhances its ability to perform well on the test set.\n",
        "  - **Impact on Validation Accuracy**: If the training set is large, the accuracy observed on the validation set is likely to be a good indicator of how the model will perform on the test set, as the model has had ample data to learn from.\n",
        "\n",
        "- **Smaller Training Set**:\n",
        "  - **Poor Learning**: A smaller training set may result in a model that does not capture the underlying patterns effectively, leading to poor performance on both the validation and test sets.\n",
        "  - **Increased Overfitting**: The model may perform well on the training set but struggle with generalization, resulting in a validation accuracy that does not reliably predict test set accuracy.\n",
        "  - **Impact on Validation Accuracy**: In this scenario, the validation accuracy may not be a good predictor of test set performance, as the model's inability to generalize is more pronounced.\n",
        "\n",
        "### 2. **Validation Set Size**\n",
        "\n",
        "- **Larger Validation Set**:\n",
        "  - **Reliable Performance Estimates**: A larger validation set provides a better representation of the data distribution, which leads to more reliable estimates of model performance.\n",
        "  - **Better Generalization Insight**: With more validation data, the model's strengths and weaknesses are more clearly defined, allowing for a more accurate assessment of how well the model will generalize to the test set.\n",
        "  - **Predictive Accuracy on Test Set**: If the validation set is sufficiently large, it can serve as a strong proxy for test set performance, making the validation accuracy a good predictor of the model's effectiveness on unseen data.\n",
        "\n",
        "- **Smaller Validation Set**:\n",
        "  - **Higher Variability in Estimates**: A smaller validation set may not adequately capture the data distribution, leading to high variability in performance metrics and less reliable estimates.\n",
        "  - **Limited Insight**: If the validation set is too small, it may not reveal the model's weaknesses or overfitting tendencies, resulting in an overly optimistic view of the model's performance.\n",
        "  - **Predictive Accuracy on Test Set**: In this case, validation accuracy may not be a reliable predictor of test set accuracy due to the limited size and representativeness of the validation data.\n",
        "\n",
        "### 3. **Trade-offs Between Training and Validation Set Sizes**\n",
        "\n",
        "- **Training vs. Validation Set Size**:\n",
        "  - As you increase the size of the training set, the size of the validation set must decrease if the overall dataset is constant. While this gives more data for training, it can reduce the reliability of the validation accuracy.\n",
        "  - Conversely, having a larger validation set at the expense of the training set can lead to better estimates of generalization but might compromise the model’s ability to learn effectively.\n",
        "\n",
        "### 4. **Overall Effects on Test Set Prediction**\n",
        "\n",
        "- **Model Performance**:\n",
        "  - The model’s performance on the test set is ultimately influenced by both the training and validation set sizes. If the training set is small, the model may not learn adequately, leading to poor performance on both the validation and test sets.\n",
        "  - A large validation set can yield a more accurate prediction of the model's true performance on the test set, provided the training set is also sufficiently large.\n",
        "\n",
        "- **Hyperparameter Tuning**:\n",
        "  - The ability to tune hyperparameters effectively relies on a proper validation set size. A well-tuned model, trained on an adequate dataset, is more likely to perform well on the test set.\n",
        "  - Validation sets that are too small can mislead hyperparameter tuning efforts, resulting in suboptimal model performance on the test set.\n",
        "\n",
        "### Conclusion\n",
        "\n",
        "In summary, the sizes of the training and validation sets directly affect how accurately the validation set can predict test set accuracy. Larger training sets generally lead to better model learning, while larger validation sets provide more reliable performance estimates. However, there must be a balance: if one set grows at the expense of the other, it can undermine the overall performance and predictive accuracy on the test set. The best practice is to use a well-considered split that ensures enough data for training while maintaining a sufficiently sized validation set to provide a reliable estimate of test set performance.\n",
        "3. What do you think is a good percentage to reserve for the validation set so that thest two factors are balanced?\n",
        "The ideal percentage to reserve for the validation set depends on several factors, including the overall size of the dataset and the specific goals of the modeling task. However, some commonly recommended splits can serve as a general guideline for balancing training and validation data:\n",
        "\n",
        "### Commonly Recommended Splits\n",
        "\n",
        "1. **70% Training, 15% Validation, 15% Test**:\n",
        "   - This is one of the most common splits. It allows for a substantial amount of data for training while reserving enough data for both validation and testing. This split is particularly effective for moderate-sized datasets.\n",
        "\n",
        "2. **80% Training, 10% Validation, 10% Test**:\n",
        "   - This split is suitable for larger datasets, where having more data for training can enhance model learning. The smaller percentages for validation and testing are often sufficient to obtain reliable estimates of model performance.\n",
        "\n",
        "3. **60% Training, 20% Validation, 20% Test**:\n",
        "   - This option may be used for smaller datasets, where a larger validation set is necessary to ensure robust performance estimates. It allows for more reliable monitoring of overfitting and model generalization.\n",
        "\n",
        "### Factors to Consider\n",
        "\n",
        "1. **Dataset Size**:\n",
        "   - **Large Datasets**: For datasets with thousands or millions of samples, smaller validation and test sets (like 10%) are usually sufficient. The model can still learn effectively from the large training set.\n",
        "   - **Small Datasets**: For smaller datasets (a few hundred samples), you may want to allocate a larger percentage to the validation set (up to 30%) to ensure reliable estimates of performance.\n",
        "\n",
        "2. **Model Complexity**:\n",
        "   - More complex models may require more data to train effectively. If you are using a complex model (like deep learning), ensure that you have enough training data, possibly sticking to a split of 80/10/10.\n",
        "\n",
        "3. **Use Case**:\n",
        "   - If model performance is critical (e.g., medical applications), you might want to err on the side of caution and allocate more data to validation and testing to ensure robustness.\n",
        "\n",
        "4. **Cross-Validation**:\n",
        "   - Instead of relying solely on a fixed validation split, consider using techniques like k-fold cross-validation, where the data is divided into k subsets. This approach helps in effectively utilizing the entire dataset and can provide a more reliable estimate of model performance without sacrificing too much training data.\n",
        "\n",
        "### Summary\n",
        "\n",
        "A good starting point for the validation set percentage is typically between **10% to 20%** of the total dataset. The most common splits are **80% training and 20% validation**, or **70% training, 15% validation, and 15% test**, depending on the dataset size and model complexity. Always consider the specific characteristics of your dataset and modeling goals to find the best balance between training and validation.\n",
        "Answer for both nearest neighbour and random classifier. You can note down the values for your experiments and plot a graph using  <a href=https://matplotlib.org/stable/gallery/lines_bars_and_markers/step_demo.html#sphx-glr-gallery-lines-bars-and-markers-step-demo-py>plt.plot<href>. Check also for extreme values for splits, like 99.9% or 0.1%"
      ]
    },
    {
      "cell_type": "markdown",
      "metadata": {
        "id": "M9zvdYY6evgI"
      },
      "source": [
        "> Exercise: Try to implement a 3 nearest neighbour classifier and compare the accuracy of the 1 nearest neighbour classifier and the 3 nearest neighbour classifier on the test dataset. You can use the KNeighborsClassifier class from the scikit-learn library to implement the K-Nearest Neighbors model. You can set the number of neighbors using the n_neighbors parameter. You can also use the accuracy_score function from the scikit-learn library to calculate the accuracy of the model."
      ]
    },
    {
      "cell_type": "markdown",
      "metadata": {
        "id": "PnYvkAZLQY7h"
      },
      "source": [
        "## Multiple Splits\n",
        "\n",
        "One way to get more accurate estimates for the test accuracy is by using <b>cross-validation</b>. Here, we will try a simple version, where we do multiple train/val splits and take the average of validation accuracies as the test accuracy estimation. Here is a function for doing this. Note that this function will take a long time to execute. You can reduce the number of splits to make it faster."
      ]
    },
    {
      "cell_type": "code",
      "execution_count": 14,
      "metadata": {
        "id": "E4nGCUQXBTzo"
      },
      "outputs": [],
      "source": [
        "def AverageAccuracy(alldata, alllabel, splitpercent, iterations, classifier=NN):\n",
        "    \"\"\"\n",
        "    This function takes in the data, labels, split percentage, number of iterations and classifier function\n",
        "    and returns the average accuracy of the classifier\n",
        "\n",
        "    alldata: numpy array of shape (n,d) where n is the number of samples and d is the number of features\n",
        "    alllabel: numpy array of shape (n,) where n is the number of samples\n",
        "    splitpercent: float which is the percentage of data to be used for training\n",
        "    iterations: int which is the number of iterations to run the classifier\n",
        "    classifier: function which is the classifier function to be used\n",
        "\n",
        "    returns: the average accuracy of the classifier\n",
        "    \"\"\"\n",
        "    accuracy = 0\n",
        "    for ii in range(iterations):\n",
        "        traindata, trainlabel, valdata, vallabel = split(\n",
        "            alldata, alllabel, splitpercent\n",
        "        )\n",
        "        valpred = classifier(traindata, trainlabel, valdata)\n",
        "        accuracy += Accuracy(vallabel, valpred)\n",
        "    return accuracy / iterations  # average of all accuracies"
      ]
    },
    {
      "cell_type": "code",
      "execution_count": null,
      "metadata": {
        "id": "H3qtNar7Bbik"
      },
      "outputs": [],
      "source": [
        "avg_acc = AverageAccuracy(alltraindata, alltrainlabel, 75 / 100, 10, classifier=NN)\n",
        "print(\"Average validation accuracy:\", avg_acc*100, \"%\")\n",
        "testpred = NN(alltraindata, alltrainlabel, testdata)\n",
        "\n",
        "print(\"Test accuracy:\", Accuracy(testlabel, testpred)*100, \"%\")"
      ]
    },
    {
      "cell_type": "markdown",
      "source": [
        "# **#1. Does averaging the validation accuracy across multiple splits give more consistent results?**\n",
        "\n",
        "Averaging the validation accuracy across multiple splits can indeed provide more consistent results, but it depends on the specific context and goals of your experiment. Here's a breakdown of the pros and cons:\n",
        "\n",
        "**Pros:**\n",
        "\n",
        "* Reduced variance: Making them more stable and less prone to fluctuations.\n",
        "* Improved robustness: The impact of outliers or noisy data, leading to more robust results.\n",
        "* Better estimate of model performance: Averaging validation accuracy can provide a more accurate estimate of the model's performance on unseen data, as it takes into account the variability of the data and the model's performance across different splits.\n",
        "\n",
        "**Cons:**\n",
        "\n",
        "* Increased computational cost: Computing validation accuracy across computationally expensive, especially for large datasets or complex models.\n",
        "* Over-smoothing: Averaging validation accuracy can lead to over-smoothing, where the results become too smooth and lose important details about the model's performance.\n",
        "* Loss of information: By averaging across multiple splits, you may lose information about the model's performance on specific subsets of the data or specific scenarios.\n",
        "\n",
        "\n",
        "**When to use averaging:**\n",
        "\n",
        "* Hyperparameter tuning\n",
        "* Model selection\n",
        "* Robustness evaluation\n",
        "\n",
        "**When not to use averaging:**\n",
        "* Exploratory data analysis\n",
        "* Debugging\n",
        "* Interpretability\n"
      ],
      "metadata": {
        "id": "iuZTzYz_-V0h"
      }
    },
    {
      "cell_type": "markdown",
      "source": [
        "# **#2. Does it give more accurate estimate of test accuracy?**\n",
        "\n",
        "Averaging validation accuracy across multiple splits can provide a more accurate estimate of test accuracy, but it's not a guarantee. Here's a nuanced breakdown:\n",
        "\n",
        "**Why it might help:**\n",
        "\n",
        "* Reduced overfitting\n",
        "* Better representation of test data\n",
        "* More robust estimate\n",
        "\n",
        "**Why it might not help:**\n",
        "\n",
        "* Validation set bias\n",
        "* Model variability\n",
        "* Limited number of splits\n",
        "\n",
        "**When it's most effective:**\n",
        "\n",
        "* Large datasets:\n",
        "  \n",
        "  Averaging validation accuracy is more effective when working with large datasets, where the validation sets are more representative of the test data.\n",
        "* Simple models:\n",
        "  \n",
        "  Averaging validation accuracy is more effective when working with simple models, where the model's performance is less variable across different splits.\n",
        "* Well-designed splits:\n",
        "  \n",
        "  Averaging validation accuracy is more effective when the splits are designed to be representative of the test data, such as using stratified sampling or time-series splits.\n",
        "\n",
        "**When it's less effective:**\n",
        "\n",
        "* Small datasets:\n",
        "   \n",
        "   Averaging validation accuracy may not be effective when working with small datasets, where the validation sets may not be representative of the test data.\n",
        "* Complex models:\n",
        "  \n",
        "  Averaging validation accuracy may not be effective when working with complex models, where the model's performance can vary significantly across different splits.\n",
        "* Poorly designed splits:\n",
        "  \n",
        "  Averaging validation accuracy may not be effective when the splits are poorly designed, such as using random sampling without considering the data distribution.\n"
      ],
      "metadata": {
        "id": "gXXsIU52AXZ-"
      }
    },
    {
      "cell_type": "markdown",
      "source": [
        "# **#3. What is the effect of the number of iterations on the estimate? Do we get a better estimate with higher iterations?**\n",
        "\n",
        "The effect of the number of iterations on the estimate of test accuracy is a crucial aspect of cross-validation. Here's a detailed explanation:\n",
        "\n",
        "* **Law of Large Numbers:**\n",
        "\n",
        " As the number of iterations (or folds) increases, the estimate of test accuracy converges to the true population mean. This is due to the Law of Large Numbers, which states that the average of a large number of independent and identically distributed random variables will be close to the population mean.\n",
        "\n",
        "* **Reducing Variance:**\n",
        "  \n",
        "  With more iterations, the variance of the estimate decreases, making the estimate more stable and reliable. This is because the averaging effect of multiple iterations reduces the impact of individual outliers or noisy data points.\n",
        "\n",
        "* **Convergence to True Accuracy:**\n",
        "  \n",
        "  As the number of iterations increases, the estimate of test accuracy converges to the true accuracy of the model on unseen data. This means that with a large enough number of iterations, the estimate will be very close to the true test accuracy.\n",
        "\n",
        "* **Diminishing Returns:**\n",
        "\n",
        " While increasing the number of iterations generally improves the estimate, there are diminishing returns. Beyond a certain point, additional iterations may not significantly improve the estimate, but will increase computational resources and time.\n",
        "\n",
        "* **Optimal Number of Iterations:**\n",
        "\n",
        " The optimal number of iterations depends on the specific problem, dataset, and model architecture. A common rule of thumb is to use 5-10 folds for most problems, but this can vary depending on the complexity of the data and the model.\n",
        "\n",
        "* **Trade-off between Computational Resources and Accuracy:**\n",
        "\n",
        " Increasing the number of iterations comes at the cost of increased computational resources and time. Therefore, it's essential to balance the need for accuracy with the available resources.\n",
        "\n"
      ],
      "metadata": {
        "id": "Jj32o6DpGPvz"
      }
    },
    {
      "cell_type": "markdown",
      "source": [
        "# **#4. Consider the results you got for the previous questions. Can we deal with a very small train dataset or validation dataset by increasing the iterations?**\n",
        "\n",
        "While increasing the number of iterations can help improve the estimate of test accuracy, it's not a silver bullet for dealing with very small train or validation datasets.\n",
        "\n",
        "**Small Train Dataset**:\n",
        "\n",
        "* Increasing iterations can help reduce overfitting by averaging out the noise in the data, but it won't create new information that's not present in the small dataset.\n",
        "* If the train dataset is too small, the model may not have enough information to learn from, and increasing iterations won't compensate for the lack of data.\n",
        "* In this case, it's better to focus on collecting more data or using techniques like data augmentation, transfer learning, or semi-supervised learning to make the most of the available data.\n",
        "\n",
        "**Small Validation Dataset:**\n",
        "\n",
        "* Increasing iterations can help reduce the variance of the estimate, but it won't increase the representativeness of the validation set.\n",
        "* If the validation dataset is too small, it may not be representative of the true population, and increasing iterations won't fix this issue.\n",
        "* In this case, it's better to focus on collecting more data for the validation set or using techniques like bootstrapping or cross-validation with stratification to ensure the validation set is representative.\n",
        "\n",
        "**When Increasing Iterations Can Help:**\n",
        "\n",
        "* If the dataset is small but still representative of the population, increasing iterations can help reduce the variance of the estimate and provide a more stable estimate of test accuracy.\n",
        "* If the model is simple and has a low capacity, increasing iterations can help improve the estimate of test accuracy by reducing overfitting."
      ],
      "metadata": {
        "id": "Py93MbaLI1ey"
      }
    },
    {
      "cell_type": "markdown",
      "source": [
        "This is a very simple way of doing cross-validation. There are many well-known algorithms for cross-validation, like k-fold cross-validation, leave-one-out etc. This will be covered in detail in a later module. For more information about cross-validation, check Cross-validatioin (Wikipedia)"
      ],
      "metadata": {
        "id": "e7P7HprRJkOq"
      }
    }
  ],
  "metadata": {
    "colab": {
      "provenance": [],
      "include_colab_link": true
    },
    "kernelspec": {
      "display_name": "Python 3",
      "name": "python3"
    },
    "language_info": {
      "codemirror_mode": {
        "name": "ipython",
        "version": 3
      },
      "file_extension": ".py",
      "mimetype": "text/x-python",
      "name": "python",
      "nbconvert_exporter": "python",
      "pygments_lexer": "ipython3",
      "version": "3.10.10"
    }
  },
  "nbformat": 4,
  "nbformat_minor": 0
}